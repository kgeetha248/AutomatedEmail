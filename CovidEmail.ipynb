{
  "nbformat": 4,
  "nbformat_minor": 0,
  "metadata": {
    "colab": {
      "provenance": [],
      "authorship_tag": "ABX9TyMXS7V+ktgzri57KSMLu7Y7"
    },
    "kernelspec": {
      "name": "python3",
      "display_name": "Python 3"
    },
    "language_info": {
      "name": "python"
    }
  },
  "cells": [
    {
      "cell_type": "code",
      "execution_count": 1,
      "metadata": {
        "id": "njv9Yg27IVdj"
      },
      "outputs": [],
      "source": [
        "def monthly_stats(month,data):\n",
        "  if month == 'March':\n",
        "    data_Mar = data.loc[data.month == 'March']                                #  To separate Month wise data\n",
        "    death_mar_sum = data_Mar['deaths'].sum()                                  # To get monthly death count\n",
        "    data_Mar_group = data_Mar.groupby(['state'])['deaths'].sum().nlargest(3)  # To get statewise death count and filter top 3\n",
        "    Mar_df = pd.DataFrame(data_Mar_group)                                     # Convert to dataframe\n",
        "    Mar_df['%death'] = round((Mar_df.deaths / death_mar_sum ) * 100, 2)            # To calculate death Percentage\n",
        "    return Mar_df\n",
        "\n",
        "  if month == 'April':\n",
        "    data_Apr = data.loc[data.month == 'April']\n",
        "    death_apr_sum = data_Apr['deaths'].sum()\n",
        "    data_Apr_group = data_Apr.groupby(['state'])['deaths'].sum().nlargest(3)\n",
        "    Apr_df = pd.DataFrame(data_Apr_group)\n",
        "    Apr_df['%death'] = round((Apr_df.deaths / death_apr_sum ) * 100, 2)\n",
        "    return Apr_df\n",
        "\n",
        "  if month == 'May':\n",
        "    data_May = data.loc[data.month == 'May']\n",
        "    death_may_sum = data_May['deaths'].sum()\n",
        "    data_May_group = data_May.groupby(['state'])['deaths'].sum().nlargest(3)\n",
        "    May_df = pd.DataFrame(data_May_group)\n",
        "    May_df['%death'] = round((May_df.deaths / death_may_sum ) * 100, 2)\n",
        "    return May_df\n",
        "\n",
        "  if month == 'June':\n",
        "    data_Jun = data.loc[data.month == 'June']\n",
        "    death_jun_sum = data_Jun['deaths'].sum()\n",
        "    data_Jun_group = data_Jun.groupby(['state'])['deaths'].sum().nlargest(3)\n",
        "    Jun_df = pd.DataFrame(data_Jun_group)\n",
        "    Jun_df['%death'] = round((Jun_df.deaths / death_jun_sum ) * 100, 2)\n",
        "    return Jun_df\n",
        "\n"
      ]
    },
    {
      "cell_type": "code",
      "source": [
        "month = input('Enter the month to view details - March, April, May, June : ')\n",
        "\n",
        "import os\n",
        "import ssl\n",
        "import smtplib\n",
        "import pandas as pd\n",
        "from tabulate import tabulate\n",
        "from email.message import EmailMessage\n",
        "\n",
        "\n",
        "def covid_data(receiver_email):\n",
        "  data = pd.read_excel('covid-19-state-level-data.xlsx')\n",
        "  data.head()\n",
        "\n",
        "  data['month'] = data['date'].dt.month_name()\n",
        "  data = data.drop(['date','Unnamed: 0','fips','cases'],axis = 1)\n",
        "\n",
        "  mail_data = monthly_stats(month,data)\n",
        "  mail_data_table = tabulate(mail_data, headers = 'keys', tablefmt = 'orgtbl')\n",
        "\n",
        "  return mail_data_table\n",
        "\n",
        "receiver_email = input('Kindly enter the receiver email id for which the stats to be sent : ')\n",
        "\n",
        "to_mail_data = covid_data(receiver_email)\n",
        "\n",
        "\n",
        "email_sender = 'kgeetha248@gmail.com'\n",
        "email_password = os.environ.get('EMAIL_PASSWORD')\n",
        "email_receiver = receiver_email\n",
        "\n",
        "subject = 'Covid {month} trend analysis - Top 3 states'\n",
        "body = '''\n",
        "\n",
        "Top 3 State-wise highest number of covid deaths in the month of {month} : \n",
        "\n",
        "Month - {month}\n",
        "\n",
        "{to_mail_data}\n",
        "\n",
        "Please dont reply to this mail. This message is an automated email script.\n",
        "\n",
        "Regards,\n",
        "Covid-Data Analysis Team,\n",
        "\n",
        "'''\n",
        "\n",
        "subject = subject.format(month = month)\n",
        "email_body = body.format(month = month, to_mail_data = to_mail_data)\n",
        "\n",
        "em = EmailMessage()\n",
        "em['From'] = email_sender\n",
        "em['To'] = email_receiver\n",
        "em['Subject'] = subject\n",
        "em.set_content(email_body)\n",
        "\n",
        "context = ssl.create_default_context()\n",
        "\n",
        "with smtplib.SMTP_SSL('smtp.gmail.com', 465, context=context) as smtp:\n",
        "  smtp.login(email_sender, email_password)\n",
        "  smtp.sendmail(email_sender, email_receiver, em.as_string())\n",
        "\n",
        "print(\"Mail Sent successfully!\")"
      ],
      "metadata": {
        "colab": {
          "base_uri": "https://localhost:8080/"
        },
        "id": "a6N3WJ5hKQz0",
        "outputId": "8cb30445-c8b4-4168-a9cd-52846187ea9e"
      },
      "execution_count": 7,
      "outputs": [
        {
          "output_type": "stream",
          "name": "stdout",
          "text": [
            "Enter the month to view details - March, April, May, June : May\n",
            "Kindly enter the receiver email id for which the stats to be sent : kgeetha2481989@gmail.com\n",
            "Mail Sent successfully!\n"
          ]
        }
      ]
    }
  ]
}